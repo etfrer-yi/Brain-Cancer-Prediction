{
 "cells": [
  {
   "cell_type": "code",
   "execution_count": 1,
   "id": "aad516cb",
   "metadata": {},
   "outputs": [],
   "source": [
    "# https://www.kaggle.com/datasets/tombackert/brain-tumor-mri-data?select=brain-tumor-mri-dataset\n",
    "\n",
    "import torch\n",
    "from torch.utils.data import Dataset, DataLoader, random_split\n",
    "from torch import nn\n",
    "import os\n",
    "import pathlib\n",
    "# from skimage.io import imread\n",
    "from PIL import Image\n",
    "from torchvision import transforms\n",
    "import matplotlib.pyplot as plt\n",
    "import numpy as np"
   ]
  },
  {
   "cell_type": "code",
   "execution_count": 2,
   "id": "b4c12993",
   "metadata": {},
   "outputs": [],
   "source": [
    "PATH_TO_DATA = \"brain-tumor-mri-dataset\""
   ]
  },
  {
   "cell_type": "code",
   "execution_count": 3,
   "id": "bdc0788b",
   "metadata": {},
   "outputs": [],
   "source": [
    "class BrainTumorDataset(Dataset):\n",
    "    def __init__(self, path_to_data, transform=None):\n",
    "        self.paths = []\n",
    "        for root, dirs, files in os.walk(PATH_TO_DATA):\n",
    "            for file in files:\n",
    "                file_path = os.path.join(root, file)\n",
    "                self.paths.append(file_path)\n",
    "        self.transform = transform\n",
    "        self.label_to_int_map = {'gl': 0, 'me': 1, 'no': 2, 'pi': 3}\n",
    "\n",
    "    def __len__(self):\n",
    "        return len(self.paths)\n",
    "\n",
    "    def __getitem__(self, idx):\n",
    "        img_path = self.paths[idx]\n",
    "        image = Image.open(img_path).convert('L')\n",
    "        label = os.path.basename(self.paths[idx]).split(\"-\")[-2]\n",
    "        if self.transform:\n",
    "            image = self.transform(image)\n",
    "        return image, torch.tensor(self.label_to_int_map[label])"
   ]
  },
  {
   "cell_type": "code",
   "execution_count": 4,
   "id": "e587035e",
   "metadata": {},
   "outputs": [],
   "source": [
    "transform = transforms.Compose([\n",
    "    transforms.Resize((256, 256)),  # Resize images\n",
    "    transforms.ToTensor(),           # Convert to tensor\n",
    "])"
   ]
  },
  {
   "cell_type": "code",
   "execution_count": 5,
   "id": "f066a803",
   "metadata": {},
   "outputs": [],
   "source": [
    "bt_data = BrainTumorDataset(PATH_TO_DATA, transform)"
   ]
  },
  {
   "cell_type": "code",
   "execution_count": 6,
   "id": "e9430858",
   "metadata": {},
   "outputs": [],
   "source": [
    "# Recommendation seems to be: \n",
    "# Use random_split if your dataset is balanced and you want simplicity.\n",
    "# Use train_test_split if your dataset is imbalanced or if you need stratified splits.\n",
    "\n",
    "gen = torch.Generator()\n",
    "gen.manual_seed(42) \n",
    "\n",
    "train_size = int(0.6 * len(bt_data))\n",
    "val_size = int(0.2 * len(bt_data))\n",
    "test_size = len(bt_data) - train_size - val_size\n",
    "\n",
    "train_dataset, val_dataset, test_dataset = random_split(bt_data, [train_size, val_size, test_size], generator=gen)\n",
    "\n",
    "train_loader = DataLoader(train_dataset, batch_size=32, shuffle=True)\n",
    "val_loader = DataLoader(val_dataset, batch_size=32, shuffle=False)\n",
    "test_loader = DataLoader(test_dataset, batch_size=32, shuffle=False)"
   ]
  },
  {
   "cell_type": "code",
   "execution_count": 7,
   "id": "6d524cc9",
   "metadata": {},
   "outputs": [],
   "source": [
    "class BrainTumorCNN(nn.Module):\n",
    "    def __init__(self):\n",
    "        super(BrainTumorCNN, self).__init__()\n",
    "        self.pool = nn.MaxPool2d(2, 2)\n",
    "        self.conv1 = nn.Conv2d(1, 6, 5)\n",
    "        self.conv2 = nn.Conv2d(6, 16, 5)\n",
    "        self.flatten = nn.Flatten()\n",
    "        self.fc1 = nn.Linear(16 * 61 * 61, 120)\n",
    "        self.fc2 = nn.Linear(120, 84)\n",
    "        self.fc3 = nn.Linear(84, 4)\n",
    "\n",
    "    def forward(self, x):\n",
    "        x = self.pool(nn.functional.relu(self.conv1(x)))\n",
    "        x = self.pool(nn.functional.relu(self.conv2(x)))\n",
    "        x = self.flatten(x)\n",
    "        x = nn.functional.relu(self.fc1(x))\n",
    "        x = nn.functional.relu(self.fc2(x))\n",
    "        x = self.fc3(x)\n",
    "        return x\n"
   ]
  },
  {
   "cell_type": "code",
   "execution_count": 8,
   "id": "379dac19",
   "metadata": {},
   "outputs": [],
   "source": [
    "model = BrainTumorCNN()\n",
    "criterion = nn.CrossEntropyLoss()\n",
    "optimizer = torch.optim.Adam(model.parameters(), lr=0.001)"
   ]
  },
  {
   "cell_type": "code",
   "execution_count": 9,
   "id": "0ffc83d2",
   "metadata": {},
   "outputs": [],
   "source": [
    "def save_checkpoint(model, optimizer, epoch, loss, path):\n",
    "    torch.save({\n",
    "        'epoch': epoch,\n",
    "        'model_state_dict': model.state_dict(),\n",
    "        'optimizer_state_dict': optimizer.state_dict(),\n",
    "        'loss': loss,\n",
    "    }, path)\n",
    "\n",
    "def load_checkpoint(model, optimizer, path):\n",
    "    checkpoint = torch.load(path)\n",
    "    model.load_state_dict(checkpoint['model_state_dict'])\n",
    "    optimizer.load_state_dict(checkpoint['optimizer_state_dict'])\n",
    "    epoch = checkpoint['epoch']\n",
    "    loss = checkpoint['loss']\n",
    "    return model, optimizer, epoch, loss\n"
   ]
  },
  {
   "cell_type": "code",
   "execution_count": 10,
   "id": "850137fa",
   "metadata": {},
   "outputs": [
    {
     "name": "stdout",
     "output_type": "stream",
     "text": [
      "Epoch 1, Validation Loss: 0.520189705159929\n",
      "Epoch 1, Training Loss: 0.7773304696436282\n",
      "Epoch 2, Validation Loss: 0.38868822322951424\n",
      "Epoch 2, Training Loss: 0.43386292347201594\n",
      "Epoch 3, Validation Loss: 0.3675208863284853\n",
      "Epoch 3, Training Loss: 0.29269141874931476\n",
      "Epoch 4, Validation Loss: 0.34816826813750795\n",
      "Epoch 4, Training Loss: 0.2004508423584479\n",
      "Epoch 5, Validation Loss: 0.36137537890010407\n",
      "Epoch 5, Training Loss: 0.134635661073305\n",
      "Epoch 6, Validation Loss: 0.2999038034015232\n",
      "Epoch 6, Training Loss: 0.111240846015237\n",
      "Epoch 7, Validation Loss: 0.3745493582967255\n",
      "Epoch 7, Training Loss: 0.05773407040612289\n",
      "Epoch 8, Validation Loss: 0.35033918155564203\n",
      "Epoch 8, Training Loss: 0.058982867906215014\n",
      "Epoch 9, Validation Loss: 0.29538519328667057\n",
      "Epoch 9, Training Loss: 0.025401497599927502\n",
      "Epoch 10, Validation Loss: 0.36804674054599473\n",
      "Epoch 10, Training Loss: 0.013252798399318838\n"
     ]
    }
   ],
   "source": [
    "# Train the model\n",
    "model.train()\n",
    "num_epochs = 10\n",
    "best_loss = float('inf')\n",
    "\n",
    "for epoch in range(num_epochs):\n",
    "    train_loss = 0.0\n",
    "    for i, data in enumerate(train_loader):\n",
    "        inputs, labels = data\n",
    "        optimizer.zero_grad()\n",
    "        outputs = model(inputs)\n",
    "        loss = criterion(outputs, labels)\n",
    "        loss.backward()\n",
    "        optimizer.step()\n",
    "        train_loss += loss.item()\n",
    "    train_loss /= len(train_loader)\n",
    "        \n",
    "    model.eval()\n",
    "    val_loss = 0\n",
    "    with torch.no_grad():\n",
    "        for inputs, labels in val_loader:\n",
    "            outputs = model(inputs)\n",
    "            val_loss += criterion(outputs, labels).item()\n",
    "        val_loss /= len(val_loader)\n",
    "        \n",
    "        if val_loss < best_loss:\n",
    "            best_loss = val_loss\n",
    "            save_checkpoint(model, optimizer, epoch, best_loss, \"best_model.tar\")\n",
    "        \n",
    "    print(f'Epoch {epoch+1}, Validation Loss: {val_loss}')\n",
    "    print(f'Epoch {epoch+1}, Training Loss: {train_loss}')\n"
   ]
  },
  {
   "cell_type": "code",
   "execution_count": 11,
   "id": "7003f605",
   "metadata": {},
   "outputs": [
    {
     "name": "stdout",
     "output_type": "stream",
     "text": [
      "Test Accuracy: 92.38826815642457%\n"
     ]
    }
   ],
   "source": [
    "# Evaluate the model\n",
    "model, optimizer, epoch, loss = load_checkpoint(model, optimizer, \"best_model.tar\")\n",
    "model.eval()\n",
    "correct = 0\n",
    "total = 0\n",
    "with torch.no_grad():\n",
    "    for data in test_loader:\n",
    "        images, labels = data\n",
    "        outputs = model(images)\n",
    "        _, predicted = torch.max(outputs.data, 1)\n",
    "        total += labels.size(0)\n",
    "        correct += (predicted == labels).sum().item()\n",
    "\n",
    "accuracy = correct / total\n",
    "print(f'Test Accuracy: {100 * accuracy}%')"
   ]
  },
  {
   "cell_type": "code",
   "execution_count": 12,
   "id": "81283f87",
   "metadata": {},
   "outputs": [
    {
     "name": "stdout",
     "output_type": "stream",
     "text": [
      "GPU is not available\n"
     ]
    }
   ],
   "source": [
    "if torch.cuda.is_available():\n",
    "    print(\"GPU is available\")\n",
    "else:\n",
    "    print(\"GPU is not available\")"
   ]
  }
 ],
 "metadata": {
  "kernelspec": {
   "display_name": "Python 3 (ipykernel)",
   "language": "python",
   "name": "python3"
  },
  "language_info": {
   "codemirror_mode": {
    "name": "ipython",
    "version": 3
   },
   "file_extension": ".py",
   "mimetype": "text/x-python",
   "name": "python",
   "nbconvert_exporter": "python",
   "pygments_lexer": "ipython3",
   "version": "3.11.5"
  }
 },
 "nbformat": 4,
 "nbformat_minor": 5
}
